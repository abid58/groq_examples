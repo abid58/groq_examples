{
 "cells": [
  {
   "cell_type": "markdown",
   "metadata": {},
   "source": [
    "### Using JSON Mode and Function Calling for SQL Querying"
   ]
  },
  {
   "cell_type": "code",
   "execution_count": 1,
   "metadata": {},
   "outputs": [
    {
     "name": "stdout",
     "output_type": "stream",
     "text": [
      "Collecting groq\n",
      "  Downloading groq-0.26.0-py3-none-any.whl.metadata (15 kB)\n",
      "Requirement already satisfied: anyio<5,>=3.5.0 in /Users/abidh/genai/LLMs-from-scratch/llm/lib/python3.11/site-packages (from groq) (4.9.0)\n",
      "Requirement already satisfied: distro<2,>=1.7.0 in /Users/abidh/genai/LLMs-from-scratch/llm/lib/python3.11/site-packages (from groq) (1.9.0)\n",
      "Requirement already satisfied: httpx<1,>=0.23.0 in /Users/abidh/genai/LLMs-from-scratch/llm/lib/python3.11/site-packages (from groq) (0.28.1)\n",
      "Requirement already satisfied: pydantic<3,>=1.9.0 in /Users/abidh/genai/LLMs-from-scratch/llm/lib/python3.11/site-packages (from groq) (2.11.3)\n",
      "Requirement already satisfied: sniffio in /Users/abidh/genai/LLMs-from-scratch/llm/lib/python3.11/site-packages (from groq) (1.3.1)\n",
      "Requirement already satisfied: typing-extensions<5,>=4.10 in /Users/abidh/genai/LLMs-from-scratch/llm/lib/python3.11/site-packages (from groq) (4.12.2)\n",
      "Requirement already satisfied: idna>=2.8 in /Users/abidh/genai/LLMs-from-scratch/llm/lib/python3.11/site-packages (from anyio<5,>=3.5.0->groq) (3.10)\n",
      "Requirement already satisfied: certifi in /Users/abidh/genai/LLMs-from-scratch/llm/lib/python3.11/site-packages (from httpx<1,>=0.23.0->groq) (2025.1.31)\n",
      "Requirement already satisfied: httpcore==1.* in /Users/abidh/genai/LLMs-from-scratch/llm/lib/python3.11/site-packages (from httpx<1,>=0.23.0->groq) (1.0.7)\n",
      "Requirement already satisfied: h11<0.15,>=0.13 in /Users/abidh/genai/LLMs-from-scratch/llm/lib/python3.11/site-packages (from httpcore==1.*->httpx<1,>=0.23.0->groq) (0.14.0)\n",
      "Requirement already satisfied: annotated-types>=0.6.0 in /Users/abidh/genai/LLMs-from-scratch/llm/lib/python3.11/site-packages (from pydantic<3,>=1.9.0->groq) (0.7.0)\n",
      "Requirement already satisfied: pydantic-core==2.33.1 in /Users/abidh/genai/LLMs-from-scratch/llm/lib/python3.11/site-packages (from pydantic<3,>=1.9.0->groq) (2.33.1)\n",
      "Requirement already satisfied: typing-inspection>=0.4.0 in /Users/abidh/genai/LLMs-from-scratch/llm/lib/python3.11/site-packages (from pydantic<3,>=1.9.0->groq) (0.4.0)\n",
      "Downloading groq-0.26.0-py3-none-any.whl (129 kB)\n",
      "Installing collected packages: groq\n",
      "Successfully installed groq-0.26.0\n",
      "\n",
      "\u001b[1m[\u001b[0m\u001b[34;49mnotice\u001b[0m\u001b[1;39;49m]\u001b[0m\u001b[39;49m A new release of pip is available: \u001b[0m\u001b[31;49m24.3.1\u001b[0m\u001b[39;49m -> \u001b[0m\u001b[32;49m25.1.1\u001b[0m\n",
      "\u001b[1m[\u001b[0m\u001b[34;49mnotice\u001b[0m\u001b[1;39;49m]\u001b[0m\u001b[39;49m To update, run: \u001b[0m\u001b[32;49mpython -m pip install --upgrade pip\u001b[0m\n",
      "Note: you may need to restart the kernel to use updated packages.\n",
      "Collecting sqlparse\n",
      "  Downloading sqlparse-0.5.3-py3-none-any.whl.metadata (3.9 kB)\n",
      "Downloading sqlparse-0.5.3-py3-none-any.whl (44 kB)\n",
      "Installing collected packages: sqlparse\n",
      "Successfully installed sqlparse-0.5.3\n",
      "\n",
      "\u001b[1m[\u001b[0m\u001b[34;49mnotice\u001b[0m\u001b[1;39;49m]\u001b[0m\u001b[39;49m A new release of pip is available: \u001b[0m\u001b[31;49m24.3.1\u001b[0m\u001b[39;49m -> \u001b[0m\u001b[32;49m25.1.1\u001b[0m\n",
      "\u001b[1m[\u001b[0m\u001b[34;49mnotice\u001b[0m\u001b[1;39;49m]\u001b[0m\u001b[39;49m To update, run: \u001b[0m\u001b[32;49mpython -m pip install --upgrade pip\u001b[0m\n",
      "Note: you may need to restart the kernel to use updated packages.\n",
      "Collecting duckdb\n",
      "  Downloading duckdb-1.3.0-cp311-cp311-macosx_12_0_x86_64.whl.metadata (7.0 kB)\n",
      "Downloading duckdb-1.3.0-cp311-cp311-macosx_12_0_x86_64.whl (17.1 MB)\n",
      "\u001b[2K   \u001b[90m━━━━━━━━━━━━━━━━━━━━━━━━━━━━━━━━━━━━━━━━\u001b[0m \u001b[32m17.1/17.1 MB\u001b[0m \u001b[31m7.3 MB/s\u001b[0m eta \u001b[36m0:00:00\u001b[0m00:01\u001b[0m00:01\u001b[0mm\n",
      "\u001b[?25hInstalling collected packages: duckdb\n",
      "Successfully installed duckdb-1.3.0\n",
      "\n",
      "\u001b[1m[\u001b[0m\u001b[34;49mnotice\u001b[0m\u001b[1;39;49m]\u001b[0m\u001b[39;49m A new release of pip is available: \u001b[0m\u001b[31;49m24.3.1\u001b[0m\u001b[39;49m -> \u001b[0m\u001b[32;49m25.1.1\u001b[0m\n",
      "\u001b[1m[\u001b[0m\u001b[34;49mnotice\u001b[0m\u001b[1;39;49m]\u001b[0m\u001b[39;49m To update, run: \u001b[0m\u001b[32;49mpython -m pip install --upgrade pip\u001b[0m\n",
      "Note: you may need to restart the kernel to use updated packages.\n"
     ]
    }
   ],
   "source": [
    "# %pip install groq\n",
    "# %pip install sqlparse\n",
    "# %pip install duckdb"
   ]
  },
  {
   "cell_type": "code",
   "execution_count": 2,
   "metadata": {},
   "outputs": [
    {
     "name": "stdout",
     "output_type": "stream",
     "text": [
      "Modules Imported!\n"
     ]
    }
   ],
   "source": [
    "from groq import Groq\n",
    "import os \n",
    "import json\n",
    "import sqlparse\n",
    "from IPython.display import Markdown\n",
    "import duckdb\n",
    "import glob\n",
    "import yaml\n",
    "print(\"Modules Imported!\")"
   ]
  },
  {
   "cell_type": "code",
   "execution_count": 13,
   "metadata": {},
   "outputs": [],
   "source": [
    "client = Groq(api_key = os.getenv('GROQ_API_KEY'))\n",
    "model = 'llama-3.3-70b-versatile'"
   ]
  },
  {
   "cell_type": "markdown",
   "metadata": {},
   "source": [
    "#### Text-To-SQL\n",
    "The first method is a standard Text-To-SQL implementation. With Text-To-SQL, we describe the database schema to the LLM, ask it to answer a question, and let it write an on-the-fly SQL query against the database to answer that question. Let's see how we can use the Groq API to build a Text-To-SQL pipeline:\n",
    "\n",
    "First, we have our system prompt. A system prompt is an initial input or instruction given to the model, setting the context or specifying the task it needs to perform, essentially guiding the model's response generation. In our case, our system prompt will serve 3 purposes:\n",
    "\n",
    "Provide the metadata schemas for our database tables\n",
    "Indicate any relevant context or tips for querying the DuckDB language or our database schema specifically\n",
    "Define our desired JSON output (note that to use JSON mode, we must include 'JSON' in the prompt)"
   ]
  },
  {
   "cell_type": "code",
   "execution_count": 6,
   "metadata": {},
   "outputs": [],
   "source": [
    "system_prompt = '''\n",
    "You are Groq Advisor, and you are tasked with generating SQL queries for DuckDB based on user questions about data stored in two tables derived from CSV files:\n",
    "\n",
    "Table: employees.csv\n",
    "Columns:\n",
    "employee_id (INTEGER): A unique identifier for each employee.\n",
    "name (VARCHAR): The full name of the employee.\n",
    "email (VARCHAR): employee's email address\n",
    "\n",
    "Table: purchases.csv\n",
    "Columns:\n",
    "purchase_id (INTEGER): A unique identifier for each purchase.\n",
    "purchase_date (DATE): Date of purchase\n",
    "employee_id (INTEGER): References the employee_id from the employees table, indicating which employee made the purchase.\n",
    "amount (FLOAT): The monetary value of the purchase.\n",
    "product_name (STRING): The name of the product purchased\n",
    "\n",
    "Given a user's question about this data, write a valid DuckDB SQL query that accurately extracts or calculates the requested information from these tables and adheres to SQL best practices for DuckDB, optimizing for readability and performance where applicable.\n",
    "\n",
    "Here are some tips for writing DuckDB queries:\n",
    "* DuckDB syntax requires querying from the .csv file itself, i.e. employees.csv and purchases.csv. For example: SELECT * FROM employees.csv as employees\n",
    "* All tables referenced MUST be aliased\n",
    "* DuckDB does not implicitly include a GROUP BY clause\n",
    "* CURRENT_DATE gets today's date\n",
    "* Aggregated fields like COUNT(*) must be appropriately named\n",
    "\n",
    "And some rules for querying the dataset:\n",
    "* Never include employee_id in the output - show employee name instead\n",
    "\n",
    "Also note that:\n",
    "* Valid values for product_name include 'Tesla','iPhone' and 'Humane pin'\n",
    "\n",
    "\n",
    "Question:\n",
    "--------\n",
    "{user_question}\n",
    "--------\n",
    "Reminder: Generate a DuckDB SQL to answer to the question:\n",
    "* respond as a valid JSON Document\n",
    "* [Best] If the question can be answered with the available tables: {\"sql\": <sql here>}\n",
    "* If the question cannot be answered with the available tables: {\"error\": <explanation here>}\n",
    "* Ensure that the entire output is returned on only one single line\n",
    "* Keep your query as simple and straightforward as possible; do not use subqueries\n",
    "'''"
   ]
  },
  {
   "cell_type": "markdown",
   "metadata": {},
   "source": [
    "Now we will define a text_to_sql function which takes in the system prompt and the user's question and outputs the LLM-generated DuckDB SQL query. Note that since we are using Groq API's JSON mode to format our output, we must indicate our expected JSON output format in either the system or user prompt."
   ]
  },
  {
   "cell_type": "code",
   "execution_count": 7,
   "metadata": {},
   "outputs": [],
   "source": [
    "def text_to_sql(client,system_prompt,user_question,model):\n",
    "\n",
    "    completion = client.chat.completions.create(\n",
    "        model = model,\n",
    "        response_format = {\"type\": \"json_object\"},\n",
    "        messages=[\n",
    "            {\n",
    "                \"role\": \"system\",\n",
    "                \"content\": system_prompt\n",
    "            },\n",
    "            {\n",
    "                \"role\": \"user\",\n",
    "                \"content\": user_question\n",
    "            }\n",
    "        ]\n",
    "    )\n",
    "  \n",
    "    return completion.choices[0].message.content"
   ]
  },
  {
   "cell_type": "markdown",
   "metadata": {},
   "source": [
    "...and a function for executing the DuckDB query that was generated:\n",
    "\n"
   ]
  },
  {
   "cell_type": "code",
   "execution_count": 8,
   "metadata": {},
   "outputs": [],
   "source": [
    "def execute_duckdb_query(query):\n",
    "    original_cwd = os.getcwd()\n",
    "    os.chdir('data')\n",
    "    \n",
    "    try:\n",
    "        conn = duckdb.connect(database=':memory:', read_only=False)\n",
    "        query_result = conn.execute(query).fetchdf().reset_index(drop=True)\n",
    "    finally:\n",
    "        os.chdir(original_cwd)\n",
    "\n",
    "\n",
    "    return query_result"
   ]
  },
  {
   "cell_type": "markdown",
   "metadata": {},
   "source": [
    "Now, we can query our database just by asking a question about the data. Here, the LLM generates a valid SQL query that reasonably answers the question:"
   ]
  },
  {
   "cell_type": "code",
   "execution_count": 14,
   "metadata": {},
   "outputs": [
    {
     "data": {
      "text/markdown": [
       "```sql\n",
       "SELECT p.purchase_date,\n",
       "       e.name,\n",
       "       p.product_name,\n",
       "       p.amount\n",
       "FROM purchases.csv AS p\n",
       "INNER JOIN employees.csv AS e ON p.employee_id = e.employee_id\n",
       "ORDER BY p.purchase_date DESC\n",
       "```"
      ],
      "text/plain": [
       "<IPython.core.display.Markdown object>"
      ]
     },
     "metadata": {},
     "output_type": "display_data"
    },
    {
     "data": {
      "application/vnd.jupyter.widget-view+json": {
       "model_id": "761353a677dc4ac1b5c6a4a8bd71fc67",
       "version_major": 2,
       "version_minor": 0
      },
      "text/plain": [
       "FloatProgress(value=0.0, layout=Layout(width='auto'), style=ProgressStyle(bar_color='black'))"
      ]
     },
     "metadata": {},
     "output_type": "display_data"
    },
    {
     "data": {
      "text/html": [
       "<div>\n",
       "<style scoped>\n",
       "    .dataframe tbody tr th:only-of-type {\n",
       "        vertical-align: middle;\n",
       "    }\n",
       "\n",
       "    .dataframe tbody tr th {\n",
       "        vertical-align: top;\n",
       "    }\n",
       "\n",
       "    .dataframe thead th {\n",
       "        text-align: right;\n",
       "    }\n",
       "</style>\n",
       "<table border=\"1\" class=\"dataframe\">\n",
       "  <thead>\n",
       "    <tr style=\"text-align: right;\">\n",
       "      <th></th>\n",
       "      <th>purchase_date</th>\n",
       "      <th>name</th>\n",
       "      <th>product_name</th>\n",
       "      <th>amount</th>\n",
       "    </tr>\n",
       "  </thead>\n",
       "  <tbody>\n",
       "    <tr>\n",
       "      <th>0</th>\n",
       "      <td>2024-02-05</td>\n",
       "      <td>Jared Dunn</td>\n",
       "      <td>Tesla</td>\n",
       "      <td>75000</td>\n",
       "    </tr>\n",
       "    <tr>\n",
       "      <th>1</th>\n",
       "      <td>2024-02-04</td>\n",
       "      <td>Bertram Gilfoyle</td>\n",
       "      <td>iPhone</td>\n",
       "      <td>700</td>\n",
       "    </tr>\n",
       "    <tr>\n",
       "      <th>2</th>\n",
       "      <td>2024-02-03</td>\n",
       "      <td>Dinesh Chugtai</td>\n",
       "      <td>Humane pin</td>\n",
       "      <td>500</td>\n",
       "    </tr>\n",
       "    <tr>\n",
       "      <th>3</th>\n",
       "      <td>2024-02-02</td>\n",
       "      <td>Erlich Bachman</td>\n",
       "      <td>Tesla</td>\n",
       "      <td>70000</td>\n",
       "    </tr>\n",
       "    <tr>\n",
       "      <th>4</th>\n",
       "      <td>2024-02-01</td>\n",
       "      <td>Richard Hendricks</td>\n",
       "      <td>iPhone</td>\n",
       "      <td>750</td>\n",
       "    </tr>\n",
       "  </tbody>\n",
       "</table>\n",
       "</div>"
      ],
      "text/plain": [
       "  purchase_date               name product_name  amount\n",
       "0    2024-02-05         Jared Dunn        Tesla   75000\n",
       "1    2024-02-04   Bertram Gilfoyle       iPhone     700\n",
       "2    2024-02-03     Dinesh Chugtai   Humane pin     500\n",
       "3    2024-02-02     Erlich Bachman        Tesla   70000\n",
       "4    2024-02-01  Richard Hendricks       iPhone     750"
      ]
     },
     "execution_count": 14,
     "metadata": {},
     "output_type": "execute_result"
    }
   ],
   "source": [
    "user_question = 'What are the most recent purchases?'\n",
    "\n",
    "\n",
    "llm_response = text_to_sql(client,system_prompt,user_question,model)\n",
    "sql_json = json.loads(llm_response)\n",
    "parsed_sql = sqlparse.format(sql_json['sql'], reindent=True, keyword_case='upper')\n",
    "formatted_sql = f\"```sql\\n{parsed_sql.strip()}\\n```\"\n",
    "display(Markdown(formatted_sql)) \n",
    "\n",
    "execute_duckdb_query(parsed_sql)"
   ]
  },
  {
   "cell_type": "markdown",
   "metadata": {},
   "source": [
    "Note, however, that due to the non-deterministic nature of LLMs, we cannot guarantee a reliable or consistent result every time. I might get a different result than you, and I might get a totally different query tomorrow. How should \"most recent purchases\" be defined? Which fields should be returned?\n",
    "\n",
    "Obviously, this is not ideal for making any kind of data-driven decisions. It's hard enough to land on a reliable source-of-truth data model, and even harder when your AI analyst cannot give you a consistent result. While text-to-SQL can be great for generating ad-hoc insights, the non-determinism feature of LLMs makes raw text-to-SQL an impractical solution for a production environment."
   ]
  },
  {
   "cell_type": "code",
   "execution_count": null,
   "metadata": {},
   "outputs": [],
   "source": []
  }
 ],
 "metadata": {
  "kernelspec": {
   "display_name": "llm",
   "language": "python",
   "name": "llm"
  },
  "language_info": {
   "codemirror_mode": {
    "name": "ipython",
    "version": 3
   },
   "file_extension": ".py",
   "mimetype": "text/x-python",
   "name": "python",
   "nbconvert_exporter": "python",
   "pygments_lexer": "ipython3",
   "version": "3.11.11"
  }
 },
 "nbformat": 4,
 "nbformat_minor": 2
}
